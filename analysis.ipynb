{
 "cells": [
  {
   "cell_type": "code",
   "execution_count": 3,
   "id": "715aa9b3-6efa-44d1-9b88-c5331172cdc2",
   "metadata": {},
   "outputs": [],
   "source": [
    "import json "
   ]
  },
  {
   "cell_type": "code",
   "execution_count": 4,
   "id": "f5737b74-af12-45bd-98d3-bbcb84ee4d55",
   "metadata": {},
   "outputs": [],
   "source": [
    "with open('data/train.json','r') as f:\n",
    "    train = json.load(f)"
   ]
  },
  {
   "cell_type": "code",
   "execution_count": 5,
   "id": "63ea9261-b418-4531-bf50-0e191683cc60",
   "metadata": {},
   "outputs": [
    {
     "name": "stdout",
     "output_type": "stream",
     "text": [
      "<class 'list'>\n",
      "6807\n"
     ]
    }
   ],
   "source": [
    "print(type(train))\n",
    "print(len(train))"
   ]
  },
  {
   "cell_type": "code",
   "execution_count": 6,
   "id": "0f3069e7-3174-42df-b87e-3c8eae41fd79",
   "metadata": {},
   "outputs": [
    {
     "data": {
      "text/plain": [
       "dict"
      ]
     },
     "execution_count": 6,
     "metadata": {},
     "output_type": "execute_result"
    }
   ],
   "source": [
    "type(train[0])"
   ]
  },
  {
   "cell_type": "code",
   "execution_count": 7,
   "id": "17bb5088-3c35-4b14-91eb-4c8030bfec04",
   "metadata": {},
   "outputs": [
    {
     "data": {
      "text/plain": [
       "dict_keys(['document', 'full_text', 'tokens', 'trailing_whitespace', 'labels'])"
      ]
     },
     "execution_count": 7,
     "metadata": {},
     "output_type": "execute_result"
    }
   ],
   "source": [
    "train[0].keys()"
   ]
  },
  {
   "cell_type": "code",
   "execution_count": 8,
   "id": "07d00e9b-e399-4f7b-8954-89d222b04cc3",
   "metadata": {},
   "outputs": [
    {
     "data": {
      "text/plain": [
       "7"
      ]
     },
     "execution_count": 8,
     "metadata": {},
     "output_type": "execute_result"
    }
   ],
   "source": [
    "train[0]['document']"
   ]
  },
  {
   "cell_type": "code",
   "execution_count": 9,
   "id": "73bd427c-be5d-444f-9a64-2db0e2510eb2",
   "metadata": {},
   "outputs": [
    {
     "data": {
      "text/plain": [
       "'Design Thinking for innovation reflexion-Avril 2021-Nathalie Sylla\\n\\nChallenge & selection\\n\\nThe tool '"
      ]
     },
     "execution_count": 9,
     "metadata": {},
     "output_type": "execute_result"
    }
   ],
   "source": [
    "train[0]['full_text'][:100]"
   ]
  },
  {
   "cell_type": "code",
   "execution_count": 10,
   "id": "c8504b70-7eb1-4051-b898-cfa3b66888c2",
   "metadata": {},
   "outputs": [
    {
     "data": {
      "text/plain": [
       "['Design',\n",
       " 'Thinking',\n",
       " 'for',\n",
       " 'innovation',\n",
       " 'reflexion',\n",
       " '-',\n",
       " 'Avril',\n",
       " '2021',\n",
       " '-',\n",
       " 'Nathalie']"
      ]
     },
     "execution_count": 10,
     "metadata": {},
     "output_type": "execute_result"
    }
   ],
   "source": [
    "train[0]['tokens'][:10]"
   ]
  },
  {
   "cell_type": "code",
   "execution_count": 20,
   "id": "b25c9c3a-3464-496f-a158-8a81cac9f1d3",
   "metadata": {},
   "outputs": [],
   "source": [
    "# verify number of token for each essay\n",
    "import spacy\n",
    "\n",
    "nlp = spacy.load(\"en_core_web_sm\")"
   ]
  },
  {
   "cell_type": "code",
   "execution_count": 21,
   "id": "482cc7cd-3f2e-4c18-8b7f-9c251f9b3b46",
   "metadata": {},
   "outputs": [],
   "source": [
    "doc = nlp(train[0]['full_text'])"
   ]
  },
  {
   "cell_type": "code",
   "execution_count": 22,
   "id": "31c9a5b6-ea2d-4cb6-84d5-ffdcc696fa93",
   "metadata": {},
   "outputs": [
    {
     "data": {
      "text/plain": [
       "[Design, Thinking, for, innovation, reflexion, -, Avril, 2021, -, Nathalie]"
      ]
     },
     "execution_count": 22,
     "metadata": {},
     "output_type": "execute_result"
    }
   ],
   "source": [
    "tokens = [token for token in doc]\n",
    "tokens[:10]"
   ]
  },
  {
   "cell_type": "code",
   "execution_count": 23,
   "id": "46a97d40-cce3-4af6-ad8b-47aaa612040c",
   "metadata": {},
   "outputs": [
    {
     "data": {
      "text/plain": [
       "True"
      ]
     },
     "execution_count": 23,
     "metadata": {},
     "output_type": "execute_result"
    }
   ],
   "source": [
    "len(tokens) == len(train[0]['tokens'])"
   ]
  },
  {
   "cell_type": "code",
   "execution_count": 24,
   "id": "8e3d726a-5fd2-4d94-8c36-8e7eb46f1b40",
   "metadata": {},
   "outputs": [],
   "source": [
    "## Dynamic verification of token length"
   ]
  },
  {
   "cell_type": "code",
   "execution_count": 29,
   "id": "5296c729-5afb-4914-8c94-9acc6a35cdd9",
   "metadata": {},
   "outputs": [
    {
     "name": "stdout",
     "output_type": "stream",
     "text": [
      "token length verified True\n"
     ]
    }
   ],
   "source": [
    "import random\n",
    "idx = random.randint(0, len(train))\n",
    "\n",
    "essay = train[idx]['full_text']\n",
    "token = nlp(essay)\n",
    "\n",
    "print(f\"token length verified {len(token)==len(train[idx]['tokens'])}\")"
   ]
  },
  {
   "cell_type": "code",
   "execution_count": 30,
   "id": "578f4cc0-0e2e-4f24-b699-fdcf639df5d2",
   "metadata": {},
   "outputs": [
    {
     "data": {
      "text/plain": [
       "'Design Thinking for innovation reflexion-Avril 2021-Nathalie Sylla\\n\\nChallenge & selection\\n\\nThe tool '"
      ]
     },
     "execution_count": 30,
     "metadata": {},
     "output_type": "execute_result"
    }
   ],
   "source": [
    "train[0]['full_text'][:100]"
   ]
  },
  {
   "cell_type": "code",
   "execution_count": 32,
   "id": "88138d34-14e9-421c-817b-57294a0954ef",
   "metadata": {},
   "outputs": [
    {
     "data": {
      "text/plain": [
       "[True, True, True, True, False, False, True, False, False, True]"
      ]
     },
     "execution_count": 32,
     "metadata": {},
     "output_type": "execute_result"
    }
   ],
   "source": [
    "train[0]['trailing_whitespace'][:10]"
   ]
  },
  {
   "cell_type": "code",
   "execution_count": 34,
   "id": "ab539528-1471-471d-a91f-5c38ab79907e",
   "metadata": {},
   "outputs": [
    {
     "data": {
      "text/plain": [
       "['O', 'O', 'O', 'O', 'O', 'O', 'O', 'O', 'O', 'B-NAME_STUDENT']"
      ]
     },
     "execution_count": 34,
     "metadata": {},
     "output_type": "execute_result"
    }
   ],
   "source": [
    "train[0]['labels'][:10]"
   ]
  },
  {
   "cell_type": "code",
   "execution_count": 35,
   "id": "8b03abc1-b6e8-492a-9eca-30d32c9e102c",
   "metadata": {},
   "outputs": [
    {
     "data": {
      "text/plain": [
       "['Design',\n",
       " 'Thinking',\n",
       " 'for',\n",
       " 'innovation',\n",
       " 'reflexion',\n",
       " '-',\n",
       " 'Avril',\n",
       " '2021',\n",
       " '-',\n",
       " 'Nathalie']"
      ]
     },
     "execution_count": 35,
     "metadata": {},
     "output_type": "execute_result"
    }
   ],
   "source": [
    "train[0]['tokens'][:10]"
   ]
  },
  {
   "cell_type": "code",
   "execution_count": null,
   "id": "68b33c33-414e-451c-996d-950eb8a1b201",
   "metadata": {},
   "outputs": [],
   "source": []
  }
 ],
 "metadata": {
  "kernelspec": {
   "display_name": "Python 3 (ipykernel)",
   "language": "python",
   "name": "python3"
  },
  "language_info": {
   "codemirror_mode": {
    "name": "ipython",
    "version": 3
   },
   "file_extension": ".py",
   "mimetype": "text/x-python",
   "name": "python",
   "nbconvert_exporter": "python",
   "pygments_lexer": "ipython3",
   "version": "3.11.7"
  }
 },
 "nbformat": 4,
 "nbformat_minor": 5
}
